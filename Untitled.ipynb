{
 "cells": [
  {
   "cell_type": "code",
   "execution_count": 43,
   "id": "aff523cb-4e56-412e-bd38-fef05e7a8635",
   "metadata": {},
   "outputs": [
    {
     "name": "stderr",
     "output_type": "stream",
     "text": [
      "C:\\Users\\gupta\\AppData\\Local\\Temp\\ipykernel_20420\\1960251228.py:16: FutureWarning: Downcasting object dtype arrays on .fillna, .ffill, .bfill is deprecated and will change in a future version. Call result.infer_objects(copy=False) instead. To opt-in to the future behavior, set `pd.set_option('future.no_silent_downcasting', True)`\n",
      "  df.fillna(df.median(), inplace=True)\n"
     ]
    },
    {
     "name": "stdout",
     "output_type": "stream",
     "text": [
      "              precision    recall  f1-score   support\n",
      "\n",
      "           0       0.83      0.75      0.79        99\n",
      "           1       0.77      0.85      0.81       101\n",
      "\n",
      "    accuracy                           0.80       200\n",
      "   macro avg       0.80      0.80      0.80       200\n",
      "weighted avg       0.80      0.80      0.80       200\n",
      "\n",
      "ROC-AUC: 0.7994799479947994\n"
     ]
    },
    {
     "data": {
      "text/plain": [
       "['diabetes_scaler.pkl']"
      ]
     },
     "execution_count": 43,
     "metadata": {},
     "output_type": "execute_result"
    }
   ],
   "source": [
    "# diabetes_training.py\n",
    "import pandas as pd\n",
    "from sklearn.model_selection import train_test_split\n",
    "from sklearn.preprocessing import StandardScaler\n",
    "from sklearn.ensemble import RandomForestClassifier\n",
    "from sklearn.metrics import classification_report, roc_auc_score\n",
    "from imblearn.over_sampling import SMOTE\n",
    "import joblib\n",
    "\n",
    "# Load dataset\n",
    "df = pd.read_csv(\"diabetes.csv\")\n",
    "\n",
    "# Replace 0s with NaN for certain columns\n",
    "cols = [\"Glucose\", \"BloodPressure\", \"SkinThickness\", \"Insulin\", \"BMI\"]\n",
    "df[cols] = df[cols].replace(0, pd.NA)\n",
    "df.fillna(df.median(), inplace=True)\n",
    "\n",
    "# Features & target\n",
    "X = df.drop(\"Outcome\", axis=1)\n",
    "y = df[\"Outcome\"]\n",
    "\n",
    "# Balance classes\n",
    "smote = SMOTE()\n",
    "X, y = smote.fit_resample(X, y)\n",
    "\n",
    "# Split & scale\n",
    "X_train, X_test, y_train, y_test = train_test_split(X, y, test_size=0.2, random_state=42)\n",
    "scaler = StandardScaler()\n",
    "X_train = scaler.fit_transform(X_train)\n",
    "X_test = scaler.transform(X_test)\n",
    "\n",
    "# Train model\n",
    "model = RandomForestClassifier(random_state=42)\n",
    "model.fit(X_train, y_train)\n",
    "\n",
    "# Evaluate\n",
    "y_pred = model.predict(X_test)\n",
    "print(classification_report(y_test, y_pred))\n",
    "print(\"ROC-AUC:\", roc_auc_score(y_test, y_pred))\n",
    "\n",
    "# Save\n",
    "joblib.dump(model, \"diabetes_model.pkl\")\n",
    "joblib.dump(scaler, \"diabetes_scaler.pkl\")\n"
   ]
  },
  {
   "cell_type": "markdown",
   "id": "a770bf7e-01ad-4eca-808f-81a031b79c7f",
   "metadata": {},
   "source": [
    "**Heart Disease Prediction**"
   ]
  },
  {
   "cell_type": "code",
   "execution_count": 44,
   "id": "1f8b5212-708b-4014-9306-a7b98751ef37",
   "metadata": {},
   "outputs": [
    {
     "name": "stdout",
     "output_type": "stream",
     "text": [
      "              precision    recall  f1-score   support\n",
      "\n",
      "           0       1.00      1.00      1.00        94\n",
      "           1       1.00      1.00      1.00       117\n",
      "\n",
      "    accuracy                           1.00       211\n",
      "   macro avg       1.00      1.00      1.00       211\n",
      "weighted avg       1.00      1.00      1.00       211\n",
      "\n",
      "ROC-AUC: 1.0\n"
     ]
    },
    {
     "data": {
      "text/plain": [
       "['heart_scaler.pkl']"
      ]
     },
     "execution_count": 44,
     "metadata": {},
     "output_type": "execute_result"
    }
   ],
   "source": [
    "# heart_training.py\n",
    "import pandas as pd\n",
    "from sklearn.model_selection import train_test_split\n",
    "from sklearn.preprocessing import StandardScaler\n",
    "from sklearn.ensemble import RandomForestClassifier\n",
    "from sklearn.metrics import classification_report, roc_auc_score\n",
    "from imblearn.over_sampling import SMOTE\n",
    "import joblib\n",
    "\n",
    "df = pd.read_csv(\"heart.csv\")\n",
    "\n",
    "X = df.drop(\"target\", axis=1)\n",
    "y = df[\"target\"]\n",
    "\n",
    "# Balance classes\n",
    "smote = SMOTE()\n",
    "X, y = smote.fit_resample(X, y)\n",
    "\n",
    "X_train, X_test, y_train, y_test = train_test_split(X, y, test_size=0.2, random_state=42)\n",
    "scaler = StandardScaler()\n",
    "X_train = scaler.fit_transform(X_train)\n",
    "X_test = scaler.transform(X_test)\n",
    "\n",
    "model = RandomForestClassifier(random_state=42)\n",
    "model.fit(X_train, y_train)\n",
    "\n",
    "y_pred = model.predict(X_test)\n",
    "print(classification_report(y_test, y_pred))\n",
    "print(\"ROC-AUC:\", roc_auc_score(y_test, y_pred))\n",
    "\n",
    "joblib.dump(model, \"heart_model.pkl\")\n",
    "joblib.dump(scaler, \"heart_scaler.pkl\")\n"
   ]
  },
  {
   "cell_type": "markdown",
   "id": "c6c747e7-5449-4abd-b9d8-db19065879c0",
   "metadata": {},
   "source": [
    "**Parkinson’s Disease Prediction**"
   ]
  },
  {
   "cell_type": "code",
   "execution_count": 45,
   "id": "2317fdca-8730-4907-af6b-a20f12516bb8",
   "metadata": {},
   "outputs": [
    {
     "name": "stdout",
     "output_type": "stream",
     "text": [
      "              precision    recall  f1-score   support\n",
      "\n",
      "           0       1.00      0.71      0.83         7\n",
      "           1       0.94      1.00      0.97        32\n",
      "\n",
      "    accuracy                           0.95        39\n",
      "   macro avg       0.97      0.86      0.90        39\n",
      "weighted avg       0.95      0.95      0.95        39\n",
      "\n",
      "ROC-AUC: 0.8571428571428572\n"
     ]
    },
    {
     "data": {
      "text/plain": [
       "['parkinson_scaler.pkl']"
      ]
     },
     "execution_count": 45,
     "metadata": {},
     "output_type": "execute_result"
    }
   ],
   "source": [
    "# parkinson_training.py\n",
    "import pandas as pd\n",
    "from sklearn.model_selection import train_test_split\n",
    "from sklearn.preprocessing import StandardScaler\n",
    "from sklearn.ensemble import RandomForestClassifier\n",
    "from sklearn.metrics import classification_report, roc_auc_score\n",
    "import joblib\n",
    "\n",
    "df = pd.read_csv(\"parkinsons.csv\")\n",
    "\n",
    "X = df.drop([\"name\",\"status\"], axis=1)\n",
    "y = df[\"status\"]\n",
    "\n",
    "X_train, X_test, y_train, y_test = train_test_split(X, y, test_size=0.2, random_state=42)\n",
    "scaler = StandardScaler()\n",
    "X_train = scaler.fit_transform(X_train)\n",
    "X_test = scaler.transform(X_test)\n",
    "\n",
    "model = RandomForestClassifier(random_state=42)\n",
    "model.fit(X_train, y_train)\n",
    "\n",
    "y_pred = model.predict(X_test)\n",
    "print(classification_report(y_test, y_pred))\n",
    "print(\"ROC-AUC:\", roc_auc_score(y_test, y_pred))\n",
    "\n",
    "joblib.dump(model, \"parkinson_model.pkl\")\n",
    "joblib.dump(scaler, \"parkinson_scaler.pkl\")\n"
   ]
  },
  {
   "cell_type": "markdown",
   "id": "715dd89e-5870-4fe1-b31f-620d8c3828eb",
   "metadata": {},
   "source": [
    "**Breast Cancer Prediction**"
   ]
  },
  {
   "cell_type": "code",
   "execution_count": 46,
   "id": "2ef0d050-b65f-4413-aae8-9572cc0cede8",
   "metadata": {},
   "outputs": [
    {
     "name": "stderr",
     "output_type": "stream",
     "text": [
      "C:\\Users\\gupta\\AppData\\Local\\Programs\\Python\\Python311\\Lib\\site-packages\\sklearn\\utils\\extmath.py:1101: RuntimeWarning: invalid value encountered in divide\n",
      "  updated_mean = (last_sum + new_sum) / updated_sample_count\n",
      "C:\\Users\\gupta\\AppData\\Local\\Programs\\Python\\Python311\\Lib\\site-packages\\sklearn\\utils\\extmath.py:1106: RuntimeWarning: invalid value encountered in divide\n",
      "  T = new_sum / new_sample_count\n",
      "C:\\Users\\gupta\\AppData\\Local\\Programs\\Python\\Python311\\Lib\\site-packages\\sklearn\\utils\\extmath.py:1126: RuntimeWarning: invalid value encountered in divide\n",
      "  new_unnormalized_variance -= correction**2 / new_sample_count\n"
     ]
    },
    {
     "name": "stdout",
     "output_type": "stream",
     "text": [
      "              precision    recall  f1-score   support\n",
      "\n",
      "           0       0.96      0.97      0.97        71\n",
      "           1       0.95      0.93      0.94        43\n",
      "\n",
      "    accuracy                           0.96       114\n",
      "   macro avg       0.96      0.95      0.95       114\n",
      "weighted avg       0.96      0.96      0.96       114\n",
      "\n",
      "ROC-AUC: 0.9510317720275139\n"
     ]
    },
    {
     "data": {
      "text/plain": [
       "['breast_scaler.pkl']"
      ]
     },
     "execution_count": 46,
     "metadata": {},
     "output_type": "execute_result"
    }
   ],
   "source": [
    "# breast_cancer_training.py\n",
    "import pandas as pd\n",
    "from sklearn.model_selection import train_test_split\n",
    "from sklearn.preprocessing import StandardScaler\n",
    "from sklearn.ensemble import RandomForestClassifier\n",
    "from sklearn.metrics import classification_report, roc_auc_score\n",
    "import joblib\n",
    "\n",
    "df = pd.read_csv(\"breast_cancer.csv\")\n",
    "\n",
    "X = df.drop(\"diagnosis\", axis=1)\n",
    "y = df[\"diagnosis\"].map({\"M\":1,\"B\":0})  # Malignant=1, Benign=0\n",
    "\n",
    "X_train, X_test, y_train, y_test = train_test_split(X, y, test_size=0.2, random_state=42)\n",
    "scaler = StandardScaler()\n",
    "X_train = scaler.fit_transform(X_train)\n",
    "X_test = scaler.transform(X_test)\n",
    "\n",
    "model = RandomForestClassifier(random_state=42)\n",
    "model.fit(X_train, y_train)\n",
    "\n",
    "y_pred = model.predict(X_test)\n",
    "print(classification_report(y_test, y_pred))\n",
    "print(\"ROC-AUC:\", roc_auc_score(y_test, y_pred))\n",
    "\n",
    "joblib.dump(model, \"breast_model.pkl\")\n",
    "joblib.dump(scaler, \"breast_scaler.pkl\")\n"
   ]
  },
  {
   "cell_type": "markdown",
   "id": "c8275b8f-c176-43a2-ad08-49b2f55809bc",
   "metadata": {},
   "source": [
    "**Chronic Kidney Disease (CKD) Prediction**"
   ]
  },
  {
   "cell_type": "code",
   "execution_count": 47,
   "id": "cf6a3125-5f8a-4d94-bc84-d91615b57688",
   "metadata": {},
   "outputs": [
    {
     "name": "stdout",
     "output_type": "stream",
     "text": [
      "Columns: Index(['id', 'age', 'bp', 'sg', 'al', 'su', 'rbc', 'pc', 'pcc', 'ba', 'bgr',\n",
      "       'bu', 'sc', 'sod', 'pot', 'hemo', 'pcv', 'wc', 'rc', 'htn', 'dm', 'cad',\n",
      "       'appet', 'pe', 'ane', 'classification'],\n",
      "      dtype='object')\n",
      "Class distribution:\n",
      " classification\n",
      "0    248\n",
      "2    150\n",
      "1      2\n",
      "Name: count, dtype: int64\n",
      "SMOTE applied.\n"
     ]
    },
    {
     "name": "stderr",
     "output_type": "stream",
     "text": [
      "C:\\Users\\gupta\\AppData\\Local\\Temp\\ipykernel_20420\\693673964.py:17: FutureWarning: Downcasting behavior in `replace` is deprecated and will be removed in a future version. To retain the old behavior, explicitly call `result.infer_objects(copy=False)`. To opt-in to the future behavior, set `pd.set_option('future.no_silent_downcasting', True)`\n",
      "  df.replace({\"yes\": 1, \"no\": 0}, inplace=True)\n"
     ]
    },
    {
     "name": "stdout",
     "output_type": "stream",
     "text": [
      "              precision    recall  f1-score   support\n",
      "\n",
      "           0       1.00      1.00      1.00        54\n",
      "           1       1.00      1.00      1.00        48\n",
      "           2       1.00      1.00      1.00        47\n",
      "\n",
      "    accuracy                           1.00       149\n",
      "   macro avg       1.00      1.00      1.00       149\n",
      "weighted avg       1.00      1.00      1.00       149\n",
      "\n",
      "ROC-AUC: 1.0\n"
     ]
    },
    {
     "data": {
      "text/plain": [
       "['ckd_scaler.pkl']"
      ]
     },
     "execution_count": 47,
     "metadata": {},
     "output_type": "execute_result"
    }
   ],
   "source": [
    "# ckd_training_full_safe.py\n",
    "import pandas as pd\n",
    "from sklearn.model_selection import train_test_split\n",
    "from sklearn.preprocessing import StandardScaler, label_binarize\n",
    "from sklearn.ensemble import RandomForestClassifier\n",
    "from sklearn.metrics import classification_report, roc_auc_score\n",
    "from imblearn.over_sampling import SMOTE\n",
    "import joblib\n",
    "\n",
    "# Load dataset\n",
    "df = pd.read_csv(\"ckd.csv\")\n",
    "\n",
    "# Print columns to identify target\n",
    "print(\"Columns:\", df.columns)\n",
    "\n",
    "# Encode yes/no to 1/0\n",
    "df.replace({\"yes\": 1, \"no\": 0}, inplace=True)\n",
    "\n",
    "# Fill numeric columns with median\n",
    "numeric_cols = df.select_dtypes(include=['int64', 'float64']).columns\n",
    "df[numeric_cols] = df[numeric_cols].fillna(df[numeric_cols].median())\n",
    "\n",
    "# Fill categorical columns with mode\n",
    "categorical_cols = df.select_dtypes(include=['object']).columns\n",
    "for col in categorical_cols:\n",
    "    df[col] = df[col].fillna(df[col].mode()[0])\n",
    "\n",
    "# Encode categorical columns as numbers\n",
    "for col in categorical_cols:\n",
    "    df[col] = pd.factorize(df[col])[0]\n",
    "\n",
    "# Set target column (update if your dataset uses a different name)\n",
    "target_col = \"classification\"  # replace with your actual target column\n",
    "X = df.drop(target_col, axis=1)\n",
    "y = df[target_col]\n",
    "\n",
    "# Check class distribution\n",
    "class_counts = y.value_counts()\n",
    "print(\"Class distribution:\\n\", class_counts)\n",
    "\n",
    "# Apply SMOTE if minority class has enough samples\n",
    "minority_class_count = class_counts.min()\n",
    "if minority_class_count > 1:\n",
    "    k_neighbors = min(5, minority_class_count - 1)\n",
    "    smote = SMOTE(k_neighbors=k_neighbors, random_state=42)\n",
    "    X, y = smote.fit_resample(X, y)\n",
    "    print(\"SMOTE applied.\")\n",
    "else:\n",
    "    print(\"SMOTE skipped due to very small minority class.\")\n",
    "\n",
    "# Split data\n",
    "X_train, X_test, y_train, y_test = train_test_split(X, y, test_size=0.2, random_state=42)\n",
    "\n",
    "# Scale features\n",
    "scaler = StandardScaler()\n",
    "X_train = scaler.fit_transform(X_train)\n",
    "X_test = scaler.transform(X_test)\n",
    "\n",
    "# Train Random Forest with balanced class weights\n",
    "model = RandomForestClassifier(class_weight='balanced', random_state=42)\n",
    "model.fit(X_train, y_train)\n",
    "\n",
    "# Predict\n",
    "y_pred = model.predict(X_test)\n",
    "\n",
    "# Classification report\n",
    "print(classification_report(y_test, y_pred))\n",
    "\n",
    "# ROC-AUC handling multi-class\n",
    "if len(y.unique()) == 2:\n",
    "    auc = roc_auc_score(y_test, y_pred)\n",
    "else:\n",
    "    # Convert to one-hot for multi-class ROC-AUC\n",
    "    y_test_bin = label_binarize(y_test, classes=list(y.unique()))\n",
    "    y_pred_bin = label_binarize(y_pred, classes=list(y.unique()))\n",
    "    auc = roc_auc_score(y_test_bin, y_pred_bin, multi_class='ovr')\n",
    "print(\"ROC-AUC:\", auc)\n",
    "\n",
    "# Save model and scaler\n",
    "joblib.dump(model, \"models/ckd_model.pkl\")\n",
    "joblib.dump(scaler, \"ckd_scaler.pkl\")\n"
   ]
  },
  {
   "cell_type": "code",
   "execution_count": null,
   "id": "87c481f4-646d-4aff-bd41-4cb1d32bdc37",
   "metadata": {},
   "outputs": [],
   "source": []
  }
 ],
 "metadata": {
  "kernelspec": {
   "display_name": "Python 3 (ipykernel)",
   "language": "python",
   "name": "python3"
  },
  "language_info": {
   "codemirror_mode": {
    "name": "ipython",
    "version": 3
   },
   "file_extension": ".py",
   "mimetype": "text/x-python",
   "name": "python",
   "nbconvert_exporter": "python",
   "pygments_lexer": "ipython3",
   "version": "3.11.9"
  }
 },
 "nbformat": 4,
 "nbformat_minor": 5
}
